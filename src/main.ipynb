{
 "cells": [
  {
   "cell_type": "code",
   "execution_count": 1,
   "metadata": {},
   "outputs": [],
   "source": [
    "import sys\n",
    "sys.path.insert(0, './layers/')"
   ]
  },
  {
   "cell_type": "code",
   "execution_count": 2,
   "metadata": {},
   "outputs": [],
   "source": [
    "import numpy as np\n",
    "\n",
    "from layers.dense import Dense\n",
    "from network import Network\n",
    "from activation_functions import sigmoid\n",
    "from loss_functions import BCELoss\n",
    "\n",
    "import torch.nn.functional as F"
   ]
  },
  {
   "cell_type": "code",
   "execution_count": 3,
   "metadata": {},
   "outputs": [],
   "source": [
    "net = Network([\n",
    "    Dense(num_inputs=2, num_outputs=1, activation=sigmoid),\n",
    "])\n",
    "\n",
    "# num_iter = int(1e5)\n",
    "# lossf = L1Loss\n",
    "\n",
    "# for i in range(num_iter):\n",
    "#     x = np.random.random((2,1))\n",
    "#     y = np.array(x[0] > x[1], dtype=int)\n",
    "\n",
    "#     out = net.forward(data)\n",
    "#     loss = lossf(out, target)\n",
    "\n",
    "#     net.backward(data, np.sign(out))"
   ]
  }
 ],
 "metadata": {
  "kernelspec": {
   "display_name": "Python 3",
   "language": "python",
   "name": "python3"
  },
  "language_info": {
   "codemirror_mode": {
    "name": "ipython",
    "version": 3
   },
   "file_extension": ".py",
   "mimetype": "text/x-python",
   "name": "python",
   "nbconvert_exporter": "python",
   "pygments_lexer": "ipython3",
   "version": "3.7.5"
  }
 },
 "nbformat": 4,
 "nbformat_minor": 4
}
